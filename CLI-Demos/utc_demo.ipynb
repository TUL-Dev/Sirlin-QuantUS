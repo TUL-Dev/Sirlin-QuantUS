{
 "cells": [
  {
   "cell_type": "code",
   "execution_count": 1,
   "id": "556c9600",
   "metadata": {},
   "outputs": [
    {
     "name": "stdout",
     "output_type": "stream",
     "text": [
      "/Users/davidspector/Home/Stanford/QuantUS Projects/QuantUS-Plugins/CLI-Demos\n",
      "/Users/davidspector/Home/Stanford/QuantUS Projects/QuantUS-Plugins\n"
     ]
    }
   ],
   "source": [
    "%load_ext autoreload\n",
    "%autoreload 2\n",
    "import os\n",
    "from pathlib import Path\n",
    "\n",
    "print(Path().cwd())\n",
    "os.chdir(Path().cwd().parent)\n",
    "print(Path().cwd())"
   ]
  },
  {
   "cell_type": "markdown",
   "id": "38281ce7",
   "metadata": {},
   "source": [
    "## Select Image & Phantom and Parse"
   ]
  },
  {
   "cell_type": "code",
   "execution_count": 2,
   "id": "31c041fa",
   "metadata": {},
   "outputs": [],
   "source": [
    "import quantus.image_loading.utc_loaders.canon_iq.main"
   ]
  },
  {
   "cell_type": "code",
   "execution_count": 3,
   "id": "a8b3ae7c",
   "metadata": {},
   "outputs": [
    {
     "name": "stdout",
     "output_type": "stream",
     "text": [
      "Available scan types: ['terason_rf', 'siemens_rf', 'canon_iq', 'clarius_rf', 'philips_rf_sc_3d', 'philips_pkl']\n"
     ]
    }
   ],
   "source": [
    "from quantus.image_loading.utc_loaders.options import get_scan_loaders\n",
    "\n",
    "print(\"Available scan types:\", list(get_scan_loaders().keys()))"
   ]
  },
  {
   "cell_type": "code",
   "execution_count": 4,
   "id": "232ea82a",
   "metadata": {},
   "outputs": [],
   "source": [
    "scan_type = 'canon_iq'\n",
    "\n",
    "scan_path = '/Users/davidspector/Home/Stanford/QuantUS Projects/Sample Data/Canon IQ/Sample Patient 001/Preset_2/image.bin'\n",
    "phantom_path = '/Users/davidspector/Home/Stanford/QuantUS Projects/Sample Data/Canon IQ/Phantom data/Preset_2/phantom2.bin'\n",
    "scan_loader_kwargs = {}"
   ]
  },
  {
   "cell_type": "code",
   "execution_count": 5,
   "id": "7162c977",
   "metadata": {},
   "outputs": [
    {
     "name": "stderr",
     "output_type": "stream",
     "text": [
      "/Users/davidspector/Home/Stanford/QuantUS Projects/QuantUS-Plugins/quantus/image_loading/utc_loaders/canon_iq/parser.py:94: RuntimeWarning: divide by zero encountered in log10\n",
      "  bmode = 20*np.log10(abs(iq))\n"
     ]
    }
   ],
   "source": [
    "from quantus.entrypoints import scan_loading_step\n",
    "\n",
    "image_data = scan_loading_step(scan_type, scan_path, phantom_path, **scan_loader_kwargs)"
   ]
  },
  {
   "cell_type": "markdown",
   "id": "1ecca47d",
   "metadata": {},
   "source": [
    "## Load Segmentation"
   ]
  },
  {
   "cell_type": "code",
   "execution_count": 6,
   "id": "10f63897",
   "metadata": {},
   "outputs": [
    {
     "name": "stdout",
     "output_type": "stream",
     "text": [
      "Available segmentation loaders: ['pkl_roi', 'nifti_voi']\n"
     ]
    }
   ],
   "source": [
    "from quantus.seg_loading.options import get_seg_loaders\n",
    "\n",
    "print(\"Available segmentation loaders:\", list(get_seg_loaders().keys()))"
   ]
  },
  {
   "cell_type": "code",
   "execution_count": 7,
   "id": "5a042ed7",
   "metadata": {},
   "outputs": [],
   "source": [
    "seg_loader = 'pkl_roi'\n",
    "\n",
    "seg_path = '/Users/davidspector/Home/Stanford/QuantUS Projects/Sample Data/Canon IQ/Sample Patient 001/Preset_2/whole.pkl'\n",
    "seg_loader_kwargs = {\n",
    "    'assert_scan': False, # Checks if the seg is initially from the same scan\n",
    "    'assert_phantom': False, # Checks if the seg is initially from the same phantom\n",
    "}"
   ]
  },
  {
   "cell_type": "code",
   "execution_count": 8,
   "id": "b1b40b5e",
   "metadata": {},
   "outputs": [],
   "source": [
    "from quantus.entrypoints import seg_loading_step\n",
    "\n",
    "seg_data = seg_loading_step(seg_loader, image_data, seg_path, scan_path, phantom_path, **seg_loader_kwargs)"
   ]
  },
  {
   "cell_type": "markdown",
   "id": "9be0d339",
   "metadata": {},
   "source": [
    "## Load Analysis Configuration"
   ]
  },
  {
   "cell_type": "code",
   "execution_count": 9,
   "id": "ff73268a",
   "metadata": {},
   "outputs": [
    {
     "name": "stdout",
     "output_type": "stream",
     "text": [
      "Available analysis config loaders: ['pkl_rf', 'philips_3d_config', 'clarius_L15_config', 'clarius_C3_config']\n"
     ]
    }
   ],
   "source": [
    "from quantus.analysis_config.utc_config.options import get_config_loaders\n",
    "\n",
    "print(\"Available analysis config loaders:\", list(get_config_loaders().keys()))"
   ]
  },
  {
   "cell_type": "code",
   "execution_count": 10,
   "id": "5461d90c",
   "metadata": {},
   "outputs": [],
   "source": [
    "config_loader = 'pkl_rf'\n",
    "\n",
    "config_path = '/Users/davidspector/Home/Stanford/QuantUS Projects/Sample Data/Canon IQ/Sample Patient 001/Preset_2/analysisConfig_new.pkl'\n",
    "config_kwargs = {\n",
    "    'assert_scan': False, # Checks if the config is initially from the same scan\n",
    "    'assert_phantom': False, # Checks if the config is initially from the same phantom\n",
    "}"
   ]
  },
  {
   "cell_type": "code",
   "execution_count": 11,
   "id": "cd76bca5",
   "metadata": {},
   "outputs": [],
   "source": [
    "from quantus.entrypoints import analysis_config_step\n",
    "\n",
    "config_data = analysis_config_step(config_loader, config_path, scan_path, phantom_path, **config_kwargs)"
   ]
  },
  {
   "cell_type": "markdown",
   "id": "81f27486",
   "metadata": {},
   "source": [
    "## Customize & Perform Analysis"
   ]
  },
  {
   "cell_type": "code",
   "execution_count": 12,
   "id": "fa6ee3bd",
   "metadata": {},
   "outputs": [
    {
     "name": "stdout",
     "output_type": "stream",
     "text": [
      "Available analysis types: ['paramap']\n"
     ]
    }
   ],
   "source": [
    "from quantus.analysis.options import get_analysis_types, get_required_kwargs\n",
    "\n",
    "all_analysis_types, all_analysis_funcs = get_analysis_types()\n",
    "print(\"Available analysis types:\", list(all_analysis_types.keys()))"
   ]
  },
  {
   "cell_type": "code",
   "execution_count": 13,
   "id": "2fa43c6b",
   "metadata": {},
   "outputs": [
    {
     "name": "stdout",
     "output_type": "stream",
     "text": [
      "Available analysis functions: ['compute_power_spectra', 'lizzi_feleppa', 'attenuation_coef', 'bsc', 'nakagami_params', 'hscan']\n"
     ]
    }
   ],
   "source": [
    "analysis_type = 'paramap'\n",
    "\n",
    "print(\"Available analysis functions:\", list(all_analysis_funcs[analysis_type].keys()))"
   ]
  },
  {
   "cell_type": "code",
   "execution_count": 14,
   "id": "ba8ab409",
   "metadata": {},
   "outputs": [
    {
     "name": "stdout",
     "output_type": "stream",
     "text": [
      "Required kwargs for current analysis: []\n"
     ]
    }
   ],
   "source": [
    "analysis_funcs = ['lizzi_feleppa'] # list of analysis functions to run (empty list means all)\n",
    "\n",
    "# Find all required kwargs\n",
    "analysis_funcs = analysis_funcs if len(analysis_funcs) else list(all_analysis_funcs[analysis_type].keys())\n",
    "required_kwargs = get_required_kwargs(analysis_type, analysis_funcs)\n",
    "print(\"Required kwargs for current analysis:\", required_kwargs)"
   ]
  },
  {
   "cell_type": "code",
   "execution_count": 15,
   "id": "88b4b1f2",
   "metadata": {},
   "outputs": [],
   "source": [
    "analysis_kwargs = {\n",
    "    'ref_attenuation': 0.7, # dB/cm/MHz\n",
    "    'ref_bsc': 0.0006, # 1/cm-sr (@ center frequency)\n",
    "}"
   ]
  },
  {
   "cell_type": "code",
   "execution_count": 16,
   "id": "72d9bedb",
   "metadata": {},
   "outputs": [
    {
     "name": "stderr",
     "output_type": "stream",
     "text": [
      "100%|██████████| 386/386 [00:01<00:00, 335.81it/s]\n"
     ]
    }
   ],
   "source": [
    "from quantus.entrypoints import analysis_step\n",
    "\n",
    "analysis_data = analysis_step(analysis_type, image_data, config_data, seg_data, analysis_funcs, **analysis_kwargs)"
   ]
  },
  {
   "cell_type": "markdown",
   "id": "f40294c6",
   "metadata": {},
   "source": [
    "## Customize & Perform Visualizations"
   ]
  },
  {
   "cell_type": "code",
   "execution_count": 17,
   "id": "13ad5bd5",
   "metadata": {},
   "outputs": [
    {
     "name": "stdout",
     "output_type": "stream",
     "text": [
      "Available visualization types: ['paramap']\n"
     ]
    }
   ],
   "source": [
    "from quantus.visualizations.options import get_visualization_types\n",
    "\n",
    "all_visualization_types, all_visualization_funcs = get_visualization_types()\n",
    "\n",
    "print(\"Available visualization types:\", list(all_visualization_types.keys()))"
   ]
  },
  {
   "cell_type": "code",
   "execution_count": 18,
   "id": "0d6d5c18",
   "metadata": {},
   "outputs": [
    {
     "name": "stdout",
     "output_type": "stream",
     "text": [
      "Available visualization functions: ['plot_ps_window_data', 'paramaps']\n"
     ]
    }
   ],
   "source": [
    "visualization_type = 'paramap'\n",
    "\n",
    "print(\"Available visualization functions:\", list(all_visualization_funcs[visualization_type].keys()))"
   ]
  },
  {
   "cell_type": "code",
   "execution_count": 19,
   "id": "6755444d",
   "metadata": {},
   "outputs": [],
   "source": [
    "# List of visualization functions to run (empty list means no visualization)\n",
    "visualization_funcs = ['paramaps', 'plot_ps_window_data'] \n",
    "\n",
    "visualization_kwargs = {\n",
    "    # 'paramap_folder_path': 'visualization_results', # folder to save visualizations\n",
    "}"
   ]
  },
  {
   "cell_type": "code",
   "execution_count": 20,
   "id": "a0cb5e17",
   "metadata": {},
   "outputs": [],
   "source": [
    "import matplotlib.pyplot as plt\n",
    "from quantus.entrypoints import visualization_step\n",
    "\n",
    "visualization_data = visualization_step(visualization_type, analysis_data, visualization_funcs, **visualization_kwargs);\n",
    "\n",
    "plt.close('all')"
   ]
  },
  {
   "cell_type": "markdown",
   "id": "cbbe38ba",
   "metadata": {},
   "source": [
    "## Customize & Perform Data Export"
   ]
  },
  {
   "cell_type": "code",
   "execution_count": 42,
   "id": "d8a238c1",
   "metadata": {},
   "outputs": [
    {
     "name": "stdout",
     "output_type": "stream",
     "text": [
      "Available data export types: ['pkl', 'csv']\n"
     ]
    }
   ],
   "source": [
    "from quantus.data_export.options import get_data_export_types\n",
    "\n",
    "all_data_export_types, all_data_export_funcs = get_data_export_types()\n",
    "print(\"Available data export types:\", list(all_data_export_types.keys()))"
   ]
  },
  {
   "cell_type": "code",
   "execution_count": 43,
   "id": "e284c34f",
   "metadata": {},
   "outputs": [
    {
     "name": "stdout",
     "output_type": "stream",
     "text": [
      "Available data export functions: ['descr_vals']\n"
     ]
    }
   ],
   "source": [
    "data_export_type = 'csv'\n",
    "\n",
    "print(\"Available data export functions:\", list(all_data_export_funcs[data_export_type].keys()))"
   ]
  },
  {
   "cell_type": "code",
   "execution_count": 44,
   "id": "2ab1ab6e",
   "metadata": {},
   "outputs": [],
   "source": [
    "data_export_funcs = ['descr_vals']\n",
    "data_export_path = 'test.csv'"
   ]
  },
  {
   "cell_type": "code",
   "execution_count": 45,
   "id": "9364f839",
   "metadata": {},
   "outputs": [],
   "source": [
    "from quantus.entrypoints import data_export_step\n",
    "\n",
    "data_export_obj = data_export_step(data_export_type, visualization_data, data_export_path, data_export_funcs)"
   ]
  }
 ],
 "metadata": {
  "kernelspec": {
   "display_name": ".venv",
   "language": "python",
   "name": "python3"
  },
  "language_info": {
   "codemirror_mode": {
    "name": "ipython",
    "version": 3
   },
   "file_extension": ".py",
   "mimetype": "text/x-python",
   "name": "python",
   "nbconvert_exporter": "python",
   "pygments_lexer": "ipython3",
   "version": "3.11.8"
  }
 },
 "nbformat": 4,
 "nbformat_minor": 5
}
